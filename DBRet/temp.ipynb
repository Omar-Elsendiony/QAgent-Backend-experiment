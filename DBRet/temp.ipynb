{
 "cells": [
  {
   "cell_type": "markdown",
   "metadata": {},
   "source": [
    "## Installing CATPY"
   ]
  },
  {
   "cell_type": "code",
   "execution_count": 3,
   "metadata": {},
   "outputs": [
    {
     "name": "stdout",
     "output_type": "stream",
     "text": [
      "Downloading...\n",
      "From (original): https://drive.google.com/uc?id=1-AQUP3kZi7dyrYZOX5U72rk9ZDxcUks_\n",
      "From (redirected): https://drive.google.com/uc?id=1-AQUP3kZi7dyrYZOX5U72rk9ZDxcUks_&confirm=t&uuid=12d951ff-4c51-4715-a1da-660717a2f908\n",
      "To: /home/omare/QAgent/QAgent-Backend-experiment/DBRet/catPy.index\n",
      "100%|███████████████████████████████████████| 1.51G/1.51G [00:15<00:00, 100MB/s]\n"
     ]
    }
   ],
   "source": [
    "# !gdown \"https://drive.google.com/uc?id=1-AQUP3kZi7dyrYZOX5U72rk9ZDxcUks_\""
   ]
  },
  {
   "cell_type": "markdown",
   "metadata": {},
   "source": [
    "## Installing CATJava"
   ]
  },
  {
   "cell_type": "code",
   "execution_count": null,
   "metadata": {},
   "outputs": [],
   "source": [
    "# !gdown  \"https://drive.google.com/uc?id=1V3S8mM8rh94RczR4yVunYgEIK92a9wRF\""
   ]
  },
  {
   "cell_type": "code",
   "execution_count": 2,
   "metadata": {},
   "outputs": [
    {
     "name": "stdout",
     "output_type": "stream",
     "text": [
      "Downloading...\n",
      "From (original): https://drive.google.com/uc?id=13zpK46kXIpx_Rv4uy-5w5YjTs6axmEs9\n",
      "From (redirected): https://drive.google.com/uc?id=13zpK46kXIpx_Rv4uy-5w5YjTs6axmEs9&confirm=t&uuid=edaee856-9aeb-49ca-90fa-06f626feadd2\n",
      "To: /home/omare/QAgent/QAgent-Backend-experiment/DBRet/catlasM2UniDedup.zip\n",
      "100%|███████████████████████████████████████| 2.29G/2.29G [00:21<00:00, 107MB/s]\n"
     ]
    }
   ],
   "source": [
    "# !gdown \"https://drive.google.com/uc?id=13zpK46kXIpx_Rv4uy-5w5YjTs6axmEs9\""
   ]
  },
  {
   "cell_type": "code",
   "execution_count": null,
   "metadata": {},
   "outputs": [],
   "source": [
    "# !gdown \"https://drive.google.com/uc?id=1JE-xLWT9vYDjI2-PFXeCbcvtWnxkmUeG\""
   ]
  },
  {
   "cell_type": "code",
   "execution_count": null,
   "metadata": {},
   "outputs": [],
   "source": [
    "# !unzip catlasM2UniDedup.zip"
   ]
  },
  {
   "cell_type": "code",
   "execution_count": null,
   "metadata": {},
   "outputs": [],
   "source": [
    "# !unzip catLMPyDedupUni.zip"
   ]
  }
 ],
 "metadata": {
  "kernelspec": {
   "display_name": "venv",
   "language": "python",
   "name": "python3"
  },
  "language_info": {
   "codemirror_mode": {
    "name": "ipython",
    "version": 3
   },
   "file_extension": ".py",
   "mimetype": "text/x-python",
   "name": "python",
   "nbconvert_exporter": "python",
   "pygments_lexer": "ipython3",
   "version": "3.12.3"
  }
 },
 "nbformat": 4,
 "nbformat_minor": 2
}
