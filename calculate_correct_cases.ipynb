{
 "cells": [
  {
   "cell_type": "code",
   "execution_count": 1,
   "metadata": {},
   "outputs": [
    {
     "name": "stdout",
     "output_type": "stream",
     "text": [
      "[[(20, 122)], [(18, 77)], [(13, 62)]]\n"
     ]
    }
   ],
   "source": [
    "import os\n",
    "import pandas as pd\n",
    "import re\n",
    "import json\n",
    "\n",
    "def read_json_files_in_subdirectories(root_dir):\n",
    "    totalBatchesList = []\n",
    "    # Traverse the directory tree\n",
    "    for subdir, _, files in os.walk(root_dir):\n",
    "        batchList = []\n",
    "        numberTests = 0\n",
    "        numberExamplesCorrect = 0\n",
    "        for file in files:\n",
    "            if file.endswith('RunningLogs.json'):\n",
    "                file_path = os.path.join(subdir, file)\n",
    "                with open(file_path, 'r') as j:\n",
    "                    dataList = json.loads(j.read())\n",
    "                # dataList = pd.read_json(file_path)\n",
    "                # get the fullfeedback attribute from the JSONL file\n",
    "                for dataLoc, data in enumerate(dataList):                  \n",
    "                    feedback = data['FullFeedback']\n",
    "                    matchOK = re.search(r'OK', feedback)\n",
    "                    if matchOK is not None:\n",
    "                        numberExamplesCorrect += 1\n",
    "                        tempTests = re.search(r'(\\d+) test', feedback)\n",
    "                        numberTests += int(tempTests.group(1))\n",
    "                batchList.append((numberExamplesCorrect, numberTests))\n",
    "                # jsonl_data.append(data)\n",
    "        if (batchList != []):\n",
    "            totalBatchesList.append(batchList)\n",
    "    \n",
    "    return totalBatchesList\n",
    "\n",
    "# Example usage\n",
    "root_directory = 'OutputTest/One-Shot'\n",
    "all_json_data = read_json_files_in_subdirectories(root_directory)\n",
    "print(all_json_data)\n",
    "\n",
    "# Convert all_json_data to a JSON string\n",
    "json_data = json.dumps(all_json_data)\n",
    "\n",
    "# Write the JSON string to a file\n",
    "output_file = os.path.join(root_directory, 'output.json')\n",
    "with open(output_file, 'w') as f:\n",
    "    f.write(json_data)\n",
    "# Now all_jsonl_data contains a list of DataFrames, each corresponding to a JSONL file\n",
    "\n"
   ]
  }
 ],
 "metadata": {
  "kernelspec": {
   "display_name": "venv",
   "language": "python",
   "name": "python3"
  },
  "language_info": {
   "codemirror_mode": {
    "name": "ipython",
    "version": 3
   },
   "file_extension": ".py",
   "mimetype": "text/x-python",
   "name": "python",
   "nbconvert_exporter": "python",
   "pygments_lexer": "ipython3",
   "version": "3.12.3"
  }
 },
 "nbformat": 4,
 "nbformat_minor": 2
}
